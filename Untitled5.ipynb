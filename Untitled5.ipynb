{
  "nbformat": 4,
  "nbformat_minor": 0,
  "metadata": {
    "colab": {
      "provenance": [],
      "toc_visible": true,
      "authorship_tag": "ABX9TyMaJTOfkGGHlEBw0drdnom1",
      "include_colab_link": true
    },
    "kernelspec": {
      "name": "python3",
      "display_name": "Python 3"
    },
    "language_info": {
      "name": "python"
    }
  },
  "cells": [
    {
      "cell_type": "markdown",
      "metadata": {
        "id": "view-in-github",
        "colab_type": "text"
      },
      "source": [
        "<a href=\"https://colab.research.google.com/github/Suchithrareddyn/Chaabi-Python-Assignment/blob/main/Untitled5.ipynb\" target=\"_parent\"><img src=\"https://colab.research.google.com/assets/colab-badge.svg\" alt=\"Open In Colab\"/></a>"
      ]
    },
    {
      "cell_type": "markdown",
      "source": [
        "# **Chaabi Python** **Assignment**"
      ],
      "metadata": {
        "id": "A29lLzgR4MlZ"
      }
    },
    {
      "cell_type": "markdown",
      "source": [
        "\n",
        "\n",
        "**Q1.**\n",
        "\n",
        " Get your basics right - Implement selection sort algorithm in python. The function accepts a\n",
        "list in the input and returns a sorted list.\n",
        "\n",
        "E.g.\n",
        "\n",
        "Input f1([5,416,54,21,6135,15,741]) should\n",
        "\n",
        "Return [5, 15, 21, 54, 416, 741, 6135]"
      ],
      "metadata": {
        "id": "C8MuGgJ130Rh"
      }
    },
    {
      "cell_type": "code",
      "source": [
        "arr = []\n",
        "print(\"Enter the size of list: \", end=\"\")\n",
        "n = int(input())\n",
        "print(\"Enter\", n, \"numbers for the list: \", end=\"\")\n",
        "for i in range(n):\n",
        "  arr.append(int(input()))\n",
        "\n",
        "for i in range(n-1):\n",
        "    chk = 0\n",
        "    small = arr[i]\n",
        "    for j in range(i+1, n):\n",
        "        if small > arr[j]:\n",
        "            small = arr[j]\n",
        "            chk = chk + 1\n",
        "            index = j\n",
        "    if chk != 0:\n",
        "        temp = arr[i]\n",
        "        arr[i] = small\n",
        "        arr[index] = temp\n",
        "\n",
        "print(\"\\nSorted List is: \", end=\"\")\n",
        "for i in range(n):\n",
        "    print(arr[i], end=\" \")"
      ],
      "metadata": {
        "id": "QTMFR0g04c3Q",
        "colab": {
          "base_uri": "https://localhost:8080/"
        },
        "outputId": "e4215dcd-6d9d-46a6-ae44-ebc5ccf927f9"
      },
      "execution_count": 1,
      "outputs": [
        {
          "output_type": "stream",
          "name": "stdout",
          "text": [
            "Enter the size of list: 7\n",
            "Enter 7 numbers for the list: 5\n",
            "15\n",
            "21\n",
            "54\n",
            "416\n",
            "6135\n",
            "741\n",
            "\n",
            "Sorted List is: 5 15 21 54 416 741 6135 "
          ]
        }
      ]
    },
    {
      "cell_type": "markdown",
      "source": [
        "**Q2.**\n",
        "\n",
        " Dictionary, what?\n",
        "Write a program that returns the file type from a file name. The type of the file is determined\n",
        "from the extension. Initially, a list of values of the form \"extension,type\"(e.g. xls,spreadsheet;\n",
        "png,image) will be input.\n",
        "The program takes input in the following form:\n",
        "1. Input extension and type values in the form of a string having the following format:\n",
        "a. \"extension1,type1;extension2,type2;extension3,type3\"\n",
        "b. E.g. If we needed to input xls → spreadsheet, xlsx → spreadsheet, jpg → image\n",
        "our string would be something like: \"xls,spreadsheet;xlsx,spreadsheet;jpg,image\"\n",
        "2. Input a list of filename.extension. E.g. an input list could be something like [\"abc.html\",\n",
        "\"xyz.xls\", \"text.csv\", \"123\"]\n",
        "The program should return a dict of filename: type pairs\n",
        "E.g.\n",
        "f(\"xls,spreadsheet;xlsx,spreadsheet;jpg,image\", [\"abc.jpg\",\n",
        "\"xyz.xls\", \"text.csv\", \"123\"]) should return\n",
        "{\n",
        "\"abc.jpg\": \"image\",\n",
        "\"xyz.xls\": \"spreadsheet\",\n",
        "\"Text.csv\": \"unknown\",\n",
        "\"123\": \"unknown\"\n",
        "}"
      ],
      "metadata": {
        "id": "u50NPREo5g5M"
      }
    },
    {
      "cell_type": "code",
      "source": [],
      "metadata": {
        "id": "0g1fTkvf5orv"
      },
      "execution_count": 1,
      "outputs": []
    },
    {
      "cell_type": "markdown",
      "source": [
        "**Q3.**\n",
        "\n",
        "Column Sorting, yay!\n",
        "\n",
        "Given a list of dicts, write a program to sort the list according to a key given in input.\n",
        "\n",
        "E.g.\n",
        "\n",
        "Input f([\n",
        "\n",
        "{\"fruit\": \"orange\", \"color\": \"orange\"},\n",
        "\n",
        "{\"fruit\": \"apple\", \"color\": \"red\"},\n",
        "\n",
        "{\"fruit\": \"banana\", \"color\": \"yellow\"},\n",
        "\n",
        "{\"fruit\": \"blueberry\", \"color\": \"blue\"}\n",
        "\n",
        "], \"fruit\")\n",
        "\n",
        "Should Output\n",
        "\n",
        "[\n",
        "\n",
        "{\"fruit\": \"apple\", \"color\": \"red\"},\n",
        "\n",
        "{\"fruit\": \"banana\", \"color\": \"yellow\"},\n",
        "\n",
        "{\"fruit\": \"blueberry\", \"color\": \"blue\"},\n",
        "\n",
        "{\"fruit\": \"orange\", \"color\": \"orange\"}\n",
        "\n",
        "]\n",
        "\n",
        "AND\n",
        "\n",
        "Input f([\n",
        "\n",
        "{\"fruit\": \"orange\", \"color\": \"orange\"},\n",
        "\n",
        "{\"fruit\": \"apple\", \"color\": \"red\"},\n",
        "\n",
        "{\"fruit\": \"banana\", \"color\": \"yellow\"},\n",
        "\n",
        "{\"fruit\": \"blueberry\", \"color\": \"blue\"}\n",
        "\n",
        "], \"color\")\n",
        "\n",
        "Should Output\n",
        "\n",
        "[\n",
        "\n",
        "{\"fruit\": \"blueberry\", \"color\": \"blue\"},\n",
        "\n",
        "{\"fruit\": \"orange\", \"color\": \"orange\"},\n",
        "\n",
        "{\"fruit\": \"apple\", \"color\": \"red\"},\n",
        "\n",
        "{\"fruit\": \"banana\", \"color\": \"yellow\"}\n",
        "\n",
        "]\n"
      ],
      "metadata": {
        "id": "YDED-Woi5tmi"
      }
    },
    {
      "cell_type": "code",
      "source": [
        "list = [{\"fruit\": \"orange\", \"color\": \"orange\"},\n",
        "        {\"fruit\": \"apple\", \"color\": \"red\"},\n",
        "        {\"fruit\": \"banana\", \"color\": \"yellow\"},\n",
        "        {\"fruit\": \"blueberry\", \"color\": \"blue\"}]\n",
        "\n",
        "k = input()\n",
        "print(sorted(list, key=lambda i: i[k]))"
      ],
      "metadata": {
        "id": "cZpbthty56kf",
        "colab": {
          "base_uri": "https://localhost:8080/"
        },
        "outputId": "64fe7ad5-cdf0-44ea-ac8f-90fd9b033eea"
      },
      "execution_count": 2,
      "outputs": [
        {
          "output_type": "stream",
          "name": "stdout",
          "text": [
            "color\n",
            "[{'fruit': 'blueberry', 'color': 'blue'}, {'fruit': 'orange', 'color': 'orange'}, {'fruit': 'apple', 'color': 'red'}, {'fruit': 'banana', 'color': 'yellow'}]\n"
          ]
        }
      ]
    },
    {
      "cell_type": "markdown",
      "source": [
        "**Q4.** \n",
        "\n",
        "The power of one line -\n",
        "\n",
        "Given a dictionary, switch position of key and values in the dict, i.e., value becomes the key and\n",
        "key becomes value. The function's body shouldn't have more than one statement.\n",
        "\n",
        "f({\n",
        "\n",
        "\"key1\": \"value1\",\n",
        "\n",
        "\"key2\": \"value2\",\n",
        "\n",
        "\"key3\": \"value3\",\n",
        "\n",
        "\"key4\": \"value4\",\n",
        "\n",
        "\"key5\": \"value5\"\n",
        "\n",
        "}) should return\n",
        "\n",
        "{\n",
        "\n",
        "\"value1\": \"key1\",\n",
        "\n",
        "\"value2\": \"key2\",\n",
        "\n",
        "\"value3\": \"key3\",\n",
        "\n",
        "\"value4\": \"key4\",\n",
        "\n",
        "\"value5\": \"key5\"\n",
        "\n",
        "}"
      ],
      "metadata": {
        "id": "7ohSr9IA6hbg"
      }
    },
    {
      "cell_type": "code",
      "source": [
        "old_dict = {'key1': \"value1\", 'key2': \"value2\", 'key3': \"value3\", 'key4': \"value4\", 'key5': \"value5\"}\n",
        "print()\n",
        "new_dict = {}\n",
        "for key, value in old_dict.items():\n",
        "    if value in new_dict:\n",
        "        new_dict[value].append(key)\n",
        "    else:\n",
        "        new_dict[value] = [key]\n",
        "\n",
        "for i in new_dict:\n",
        "    print(i,\":\", new_dict[i])"
      ],
      "metadata": {
        "id": "S7QPxSCe6lo5",
        "colab": {
          "base_uri": "https://localhost:8080/"
        },
        "outputId": "3a02f6e7-93a5-4671-ab04-42c51fc0681e"
      },
      "execution_count": 3,
      "outputs": [
        {
          "output_type": "stream",
          "name": "stdout",
          "text": [
            "\n",
            "value1 : ['key1']\n",
            "value2 : ['key2']\n",
            "value3 : ['key3']\n",
            "value4 : ['key4']\n",
            "value5 : ['key5']\n"
          ]
        }
      ]
    },
    {
      "cell_type": "markdown",
      "source": [
        "**Q5**\n",
        "\n",
        "Common, Not Common\n",
        "\n",
        "Given 2 lists in input. Write a program to return the elements, which are common to both\n",
        "lists(set intersection) and those which are not common(set symmetric difference) between the\n",
        "lists.\n",
        "\n",
        "Input:\n",
        "\n",
        "Mainstream = [\"One Punch Man\",\"Attack On Titan\",\"One Piece\",\"Sword\n",
        "\n",
        "Art Online\",\"Bleach\",\"Dragon Ball Z\",\"One Piece\"]\n",
        "\n",
        "must_watch = [\"Full Metal Alchemist\",\"Code Geass\",\"Death\n",
        "\n",
        "Note\",\"Stein's Gate\",\"The Devil is a Part Timer!\",\"One Piece\",\"Attack\n",
        "On Titan\"]\n",
        "\n",
        "f(mainstream, must_watch) should return:\n",
        "\n",
        "[\"One Piece\", \"Attack On Titan\"], [\"Dragon Ball Z\", \"Death Note\",\n",
        "\"One Punch Man\", \"Stein's Gate\", \"The Devil is a Part Timer!\", \"Sword\n",
        "Art Online\",\"Full Metal Alchemist\",\"'Bleach\", \"Code Geass\"]"
      ],
      "metadata": {
        "id": "ReKvLbmu6tBS"
      }
    },
    {
      "cell_type": "code",
      "source": [
        "def Intersection(lst1, lst2):\n",
        "    temp = set(lst2)\n",
        "    lst3 = [value for value in lst1 if value in temp]\n",
        "    return lst3\n",
        "\n",
        "def uncommon_items(list1, list2):\n",
        "    set1 = set(list1)\n",
        "    set2 = set(list2)\n",
        "    return list(set1.symmetric_difference(set2))\n",
        "\n",
        "n=int(input())\n",
        "list1=[]\n",
        "list2=[]\n",
        "for i in range(n):\n",
        "    list1.append(input())\n",
        "\n",
        "for i in range(n):\n",
        "    list2.append(input())\n",
        "\n",
        "print(Intersection(list1,list2),\",\",uncommon_items(list1,list2))"
      ],
      "metadata": {
        "id": "96J4TYKJ6w0u"
      },
      "execution_count": null,
      "outputs": []
    },
    {
      "cell_type": "markdown",
      "source": [
        "**Q6.**\n",
        "\n",
        " Every other sub-list\n",
        "\n",
        "Given a list and 2 indices as input, return the sub-list enclosed within these 2 indices.\n",
        "It should contain every second element.\n",
        "\n",
        "E.g.\n",
        "\n",
        "Input f([2,3,5,7,11,13,17,19,23,29,31,37,41], 2, 9)\n",
        "\n",
        "Return [5, 11, 17, 23]"
      ],
      "metadata": {
        "id": "pzFWj_pW62R9"
      }
    },
    {
      "cell_type": "code",
      "source": [
        "n=int(input())\n",
        "list=[]\n",
        "for i in range(n):\n",
        "    list.append(int(input()))\n",
        "a=int(input())\n",
        "b=int(input())\n",
        "print(list[a:b:2])"
      ],
      "metadata": {
        "id": "pJKqGClb65ji"
      },
      "execution_count": null,
      "outputs": []
    },
    {
      "cell_type": "markdown",
      "source": [
        "**Q7.**\n",
        "\n",
        "Calculate the factorial of a number using lambda function."
      ],
      "metadata": {
        "id": "9nagCK5Y6-bf"
      }
    },
    {
      "cell_type": "code",
      "source": [
        "x = lambda num : 1 if num <= 1 else num*x(num-1)\n",
        "number = int(input())\n",
        "print('%d != %d' %(number, x(number)))"
      ],
      "metadata": {
        "id": "P-6t0c3K7Gkt"
      },
      "execution_count": null,
      "outputs": []
    },
    {
      "cell_type": "markdown",
      "source": [
        "**Q8.**\n",
        "\n",
        " Some neat tricks up her sleeve:\n",
        "\n",
        "Looking at the below code, write down the final values of A0, A1, ...An\n",
        "\n",
        "A0 = dict(zip(('a','b','c','d','e'),(1,2,3,4,5)))\n",
        "\n",
        "A1 = range(10)\n",
        "\n",
        "A2 = sorted([i for i in A1 if i in A0])\n",
        "\n",
        "A3 = sorted([A0[s] for s in A0])\n",
        "\n",
        "A4 = [i for i in A1 if i in A3]\n",
        "\n",
        "A5 = {i:i*i for i in A1}\n",
        "\n",
        "A6 = [[i,i*i] for i in A1]\n",
        "\n",
        "A7 = reduce(lambda x,y: x+y, [10,23, -45, 33])\n",
        "\n",
        "A8 = map(lambda x: x*2, [1,2,3,4])\n",
        "\n",
        "A9 = filter(lambda x: len(x) >3, [“I” , “want”, “to”, “learn”, “python”])"
      ],
      "metadata": {
        "id": "A4t9M9Op7KbE"
      }
    },
    {
      "cell_type": "markdown",
      "source": [
        "**Solution:**\n",
        "\n",
        "A0 = {'a':1,'b':2,'c':3,'d':4,'e':5,}\n",
        "\n",
        "A1 = range(0,10)\n",
        "\n",
        "A2 = [ ]\n",
        "\n",
        "A3 = [1,2,3,4,5]\n",
        "\n",
        "A4 = [1,2,3,4,5]\n",
        "\n",
        "A5 = {0:0, 1:1, 2:4, 4:16, 5:25, 6:36, 7:49, 8:64, 9:81}\n",
        "\n",
        "A6 = [[0,0], [1,1], [2,4], [3,9], [4,16], [5,25], [6,36], [7,49], [8,64], [9,81]]\n",
        "\n",
        "A7 = 21\n",
        "\n",
        "A8 = [1:2, 2:4, 3:6, 4:8]\n",
        "\n",
        "A9 = [“want”, “learn”, “python”]"
      ],
      "metadata": {
        "id": "P4xBwbo17q0L"
      }
    },
    {
      "cell_type": "markdown",
      "source": [
        "**Q9.**\n",
        "\n",
        "Write a func that takes 3 args:\n",
        "\n",
        "from_date - string representing a date in the form of 'yy-mm-dd'\n",
        "\n",
        "to_date - string representing a date in the form of 'yy-mm-dd'\n",
        "\n",
        "difference - int\n",
        "\n",
        "Returns True if from_date and to_date are less than difference days away from\n",
        "each other, else returns False."
      ],
      "metadata": {
        "id": "_plUJbM57roZ"
      }
    },
    {
      "cell_type": "code",
      "source": [
        "from datetime import datetime, timedelta\n",
        "from datetime import date, datetime\n",
        "\n",
        "def function(date, n):\n",
        "\n",
        "    date_obj = datetime.strptime(date, '%y-%m-%d')\n",
        "    new_date = date_obj - timedelta(days=n)\n",
        "    new_date_str = new_date.strftime('%y-%m-%d')\n",
        "    return new_date_str\n",
        "\n",
        "date = function('16-12-10', 11)\n",
        "print(date)"
      ],
      "metadata": {
        "id": "TXEzlnkO8BWM"
      },
      "execution_count": null,
      "outputs": []
    },
    {
      "cell_type": "markdown",
      "source": [
        "**Q10.**\n",
        "\n",
        " Of date and days\n",
        "\n",
        "Write a func that takes 2 args:\n",
        "\n",
        "date - string representing a date in the form of 'yy-mm-dd'\n",
        "\n",
        "n - integer\n",
        "\n",
        "Returns the string representation of date n days before 'date'\n",
        "\n",
        "E.g. f('16-12-10', 11) should return '16-11-29'"
      ],
      "metadata": {
        "id": "Pv2dfhl88EsH"
      }
    },
    {
      "cell_type": "code",
      "source": [
        "3from datetime import datetime, timedelta\n",
        "\n",
        "def check_date_difference(from_date, to_date, difference):\n",
        "\n",
        "    from_date_obj = datetime.strptime(from_date, '%y-%m-%d')\n",
        "    to_date_obj = datetime.strptime(to_date, '%y-%m-%d')\n",
        "    date_diff = abs((to_date_obj - from_date_obj).days)\n",
        "    if date_diff < difference:\n",
        "        return True\n",
        "    else:\n",
        "        return False\n",
        "\n",
        "\n",
        "date_str = input(\"Enter a date in the form 'yy-mm-dd': \")\n",
        "n = int(input(\"Enter the number of days: \"))\n",
        "date_obj = datetime.strptime(date_str, '%y-%m-%d')\n",
        "new_date = date_obj - timedelta(days=n)\n",
        "\n",
        "# Convert the new date to a string in the desired format\n",
        "new_date_str1 = new_date.strftime('%y-%m-%d')\n",
        "\n",
        "date_str1 = input(\"Enter a date in the form 'yy-mm-dd': \")\n",
        "n1 = int(input(\"Enter the number of days: \"))\n",
        "date_obj1 = datetime.strptime(date_str, '%y-%m-%d')\n",
        "new_date1 = date_obj1 - timedelta(days=n1)\n",
        "\n",
        "# Convert the new date to a string in the desired format\n",
        "new_date_str2 = new_date1.strftime('%y-%m-%d')\n",
        "k=int(input())\n",
        "check = check_date_difference(new_date_str1, new_date_str2, k)\n",
        "print(check)"
      ],
      "metadata": {
        "id": "w3KtGTsw8Jhz"
      },
      "execution_count": null,
      "outputs": []
    },
    {
      "cell_type": "markdown",
      "source": [
        "**Q11.** \n",
        "\n",
        "Something fishy there -\n",
        "\n",
        "Find output of following:\n",
        " \n",
        "    def f(x,l=[]):\n",
        "\n",
        "    for i in range(x):\n",
        "\n",
        "     l.append(i*i)\n",
        "\n",
        "    print(l)\n",
        "\n",
        "f(2)\n",
        "\n",
        "f(3,[3,2,1])\n",
        "\n",
        "f(3)\n",
        "\n",
        "\n"
      ],
      "metadata": {
        "id": "3ujcchVQ8kyd"
      }
    },
    {
      "cell_type": "markdown",
      "source": [
        "**Answer:**\n",
        "\n",
        "f(2)= [0,1]\n",
        "\n",
        "f(3,[3,2,1])\n",
        "\n",
        "output:-[3,2,1,0,1,4]\n",
        "\n",
        "f(3) -> output\n",
        "\n",
        "[0,1,4]\n",
        "\n"
      ],
      "metadata": {
        "id": "iB_FCfOL9b_4"
      }
    }
  ]
}